{
 "cells": [
  {
   "cell_type": "markdown",
   "id": "aba8d6b2",
   "metadata": {},
   "source": [
    "#Q4. Write a python programme to calculate 5-point summary (Mean, Median, Min, Max and IQR)\n",
    "for random variable."
   ]
  },
  {
   "cell_type": "code",
   "execution_count": 28,
   "id": "e1d8110d",
   "metadata": {},
   "outputs": [
    {
     "name": "stdout",
     "output_type": "stream",
     "text": [
      "0.0006894523519416218\n",
      "0.2593659914872326\n",
      "Max: 0.999\n"
     ]
    }
   ],
   "source": [
    "# calculate a 5-number summary\n",
    "from numpy import percentile\n",
    "from numpy.random import rand\n",
    "# generate data sample\n",
    "data = rand(1000)\n",
    "# calculate quartiles\n",
    "quartiles = percentile(data, [25, 50, 75])\n",
    "# calculate min/max\n",
    "data_min, data_max = data.min(), data.max()\n",
    "# print 5-number summary\n",
    "print (data_min)\n",
    "print(quartiles[0])\n",
    "print('Max: %.3f' % data_max)"
   ]
  },
  {
   "cell_type": "markdown",
   "id": "3799d7aa",
   "metadata": {},
   "source": [
    "Q1. When playing a game of bowling, what is the probability of throwing exactly 3 strikes in a\n",
    "game with 10 rounds? Assume that the probability of throwing a strike is 25% for each round.\n",
    "Write a programme for this."
   ]
  },
  {
   "cell_type": "code",
   "execution_count": 7,
   "id": "0fa2f71c",
   "metadata": {},
   "outputs": [
    {
     "name": "stdout",
     "output_type": "stream",
     "text": [
      "0.7 10 114.19639 114.67110582138125\n"
     ]
    }
   ],
   "source": [
    "from random import random\n",
    "\n",
    "def E(p, n, numTrials = 100000):\n",
    "    tot = 0\n",
    "\n",
    "    for trial in range(numTrials):\n",
    "        streak = 0\n",
    "        attempts = 0\n",
    "        while streak < n:\n",
    "            attempts+=1\n",
    "            if random() <= p:\n",
    "                streak+=1\n",
    "            else:\n",
    "                streak = 0\n",
    "        tot += attempts\n",
    "\n",
    "    return tot / float(numTrials)\n",
    "\n",
    "def closedForm(p,n):\n",
    "    return float(1-p**(-n))/(p-1)\n",
    "\n",
    "for p,n in [(.7,10)]:\n",
    "    print(p,n,E(p,n),closedForm(p,n))"
   ]
  },
  {
   "cell_type": "markdown",
   "id": "1efe3588",
   "metadata": {},
   "source": [
    "Q2, Suppose p is the number of goals scored by Ronaldo per half-time (45minutes) and p has a\n",
    "poisson distribution with mean 5. What is the probability of him scoring more than one goal but\n",
    "less than 4 goals in the next 15 minutes?? Write a Programme for this??\n"
   ]
  },
  {
   "cell_type": "code",
   "execution_count": 15,
   "id": "adee5fb2",
   "metadata": {},
   "outputs": [
    {
     "name": "stdout",
     "output_type": "stream",
     "text": [
      "probability for ronaldo to make more than 1 and less than 3 goal is 46.878846897697315 %\n"
     ]
    }
   ],
   "source": [
    "import  math\n",
    "\n",
    "# units are in minute\n",
    "a=5/45   #goal per minute\n",
    "t=15 #specified time\n",
    "L=a*t #Lambda = avg number of occurance of event in sprcified time\n",
    " #poison random variable\n",
    "\n",
    "L\n",
    "\n",
    "def poisson_pmf(L,x):#PROBABILITY MASS FUNCTION\n",
    "    return ((L**x)*(math.e**(-L))/math.factorial(x))\n",
    "\n",
    "\n",
    "def poisson_cdf(lamda,x):#CUMULATIVE DISTRIBUTION FUNCTION\n",
    "    cdf=0\n",
    "    for n in range(1,x+1):\n",
    "        cdf+=poisson_pmf(lamda,n)\n",
    "    return cdf\n",
    "probability=poisson_cdf(L,4)-poisson_cdf(L,1)\n",
    "print('probability for ronaldo to make more than 1 and less than 3 goal is {} %'.format(probability*100)) "
   ]
  },
  {
   "cell_type": "markdown",
   "id": "5d5e2c35",
   "metadata": {},
   "source": [
    "#Q3. If X is a normal variate with a mean of 120 and a standard deviation of 10, find c such that\n",
    "(i) P(X > c) = 0.02, and (ii) P(X< c) = 0.05.\n",
    "Write a programme for that ?"
   ]
  },
  {
   "cell_type": "code",
   "execution_count": 27,
   "id": "02f35d23",
   "metadata": {},
   "outputs": [
    {
     "name": "stdout",
     "output_type": "stream",
     "text": [
      "c for P(X > c) = 0.02 is:  99.46\n",
      "c for P(X < c) = 0.05 is:  103.55\n"
     ]
    }
   ],
   "source": [
    "mean=120\n",
    "std_dev=10\n",
    "import math\n",
    "from scipy.special import erfinv\n",
    "\n",
    "def find_x(ar,mean,std_dev):\n",
    "    return erfinv(2*ar-1)*std_dev*math.sqrt(2)+mean\n",
    "#(i)\n",
    "print(\"c for P(X > c) = 0.02 is: \",'{:.2f}'.format(find_x(0.02,mean,std_dev)))\n",
    "#(ii)\n",
    "print(\"c for P(X < c) = 0.05 is: \",'{:.2f}'.format(find_x(0.05,mean,std_dev)))"
   ]
  },
  {
   "cell_type": "code",
   "execution_count": null,
   "id": "ab7c4260",
   "metadata": {},
   "outputs": [],
   "source": []
  }
 ],
 "metadata": {
  "kernelspec": {
   "display_name": "Python 3 (ipykernel)",
   "language": "python",
   "name": "python3"
  },
  "language_info": {
   "codemirror_mode": {
    "name": "ipython",
    "version": 3
   },
   "file_extension": ".py",
   "mimetype": "text/x-python",
   "name": "python",
   "nbconvert_exporter": "python",
   "pygments_lexer": "ipython3",
   "version": "3.9.7"
  }
 },
 "nbformat": 4,
 "nbformat_minor": 5
}
