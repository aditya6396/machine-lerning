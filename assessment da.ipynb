{
 "cells": [
  {
   "cell_type": "code",
   "execution_count": null,
   "id": "19dc325f",
   "metadata": {},
   "outputs": [],
   "source": [
    "#Q1\n",
    "given data \n",
    "Tax paid \n",
    "in Rs. \n",
    "Thousand \n",
    "20-24 25-29 30-34 35-39 40-44 45-49 total\n",
    "No of tax \n",
    "payer\n",
    "45 200 130 65 45 15 500"
   ]
  },
  {
   "cell_type": "code",
   "execution_count": 39,
   "id": "24b3efeb",
   "metadata": {},
   "outputs": [
    {
     "name": "stdout",
     "output_type": "stream",
     "text": [
      "232\n"
     ]
    }
   ],
   "source": [
    "# creating a list\n",
    "list1 = [22,27,32,37,42,72]\n",
    "sum1=0\n",
    "for i in list1:\n",
    "    sum1=i+sum1\n",
    "print(sum1)"
   ]
  },
  {
   "cell_type": "code",
   "execution_count": 43,
   "id": "451267c6",
   "metadata": {},
   "outputs": [
    {
     "name": "stdout",
     "output_type": "stream",
     "text": [
      "21\n"
     ]
    }
   ],
   "source": [
    "list2 = [1,2,3,4,5,6]\n",
    "sum2=0\n",
    "for i in list2:\n",
    "    sum2=i+sum2\n",
    "print(sum2)"
   ]
  },
  {
   "cell_type": "code",
   "execution_count": 49,
   "id": "69a892f7",
   "metadata": {},
   "outputs": [
    {
     "name": "stdout",
     "output_type": "stream",
     "text": [
      "[45, 400, 390, 260, 225, 90]\n"
     ]
    }
   ],
   "source": [
    "list3 = [45,200,130,65,45,15]\n",
    "list2 = [1,2,3,4,5,6]\n",
    "\n",
    "res_list = []\n",
    "for i in range(0, len(list3)):\n",
    "    res_list.append(list3[i]*list2[i])\n",
    "print(res_list)    "
   ]
  },
  {
   "cell_type": "code",
   "execution_count": 51,
   "id": "ee8e6fde",
   "metadata": {},
   "outputs": [
    {
     "name": "stdout",
     "output_type": "stream",
     "text": [
      "1410\n"
     ]
    }
   ],
   "source": [
    "#find the mean\n",
    "list4=[45, 400, 390, 260, 225, 90]\n",
    "sum4=0\n",
    "for i in list4:\n",
    "    sum4=i+sum4\n",
    "print(sum4)\n"
   ]
  },
  {
   "cell_type": "code",
   "execution_count": 66,
   "id": "c9022afb",
   "metadata": {},
   "outputs": [
    {
     "name": "stdout",
     "output_type": "stream",
     "text": [
      "38.666666666666664\n"
     ]
    }
   ],
   "source": [
    "#find the mean\n",
    "mean=232/6\n",
    "print(mean)"
   ]
  },
  {
   "cell_type": "code",
   "execution_count": 59,
   "id": "5adbac2f",
   "metadata": {},
   "outputs": [
    {
     "data": {
      "text/plain": [
       "39.5"
      ]
     },
     "execution_count": 59,
     "metadata": {},
     "output_type": "execute_result"
    }
   ],
   "source": [
    "#find the median5\n",
    "list1 = [22,27,32,37,42,72]\n",
    "m=list1[3]+list2[4]/2\n",
    "m\n",
    "\n"
   ]
  },
  {
   "cell_type": "code",
   "execution_count": null,
   "id": "53d41c90",
   "metadata": {},
   "outputs": [],
   "source": [
    "# there is no common value mode will be consider as \n",
    "list1 = [22,27,32,37,42,72]\n"
   ]
  },
  {
   "cell_type": "markdown",
   "id": "ee2e33bc",
   "metadata": {},
   "source": [
    " data-datamean-(data - mean)2\n",
    "22- 16.6667 -  277.77888889\n",
    "27- 11.6667 -  136.11188889\n",
    "32- 6.6667  -   44.44488889\n",
    "37- 1.6667  -   2.77788889\n",
    "42- 3.3333  -  11.11088889\n",
    "72- 33.3333 - 1111.10888889\n",
    "            total =1538.33\n"
   ]
  },
  {
   "cell_type": "code",
   "execution_count": 71,
   "id": "bb9d8b2b",
   "metadata": {},
   "outputs": [
    {
     "name": "stdout",
     "output_type": "stream",
     "text": [
      "256.3883333333333\n"
     ]
    }
   ],
   "source": [
    "total =1538.33\n",
    "Variance=  total/6\n",
    "print(Variance)\n"
   ]
  },
  {
   "cell_type": "code",
   "execution_count": 72,
   "id": "90c2fa88",
   "metadata": {},
   "outputs": [
    {
     "name": "stdout",
     "output_type": "stream",
     "text": [
      "16.027753706895112\n"
     ]
    }
   ],
   "source": [
    "#to calculate varience \n",
    "Variance= 256.88888888889\n",
    "std=(Variance)**0.5\n",
    "print(std)"
   ]
  },
  {
   "cell_type": "code",
   "execution_count": 79,
   "id": "bd148605",
   "metadata": {},
   "outputs": [
    {
     "name": "stdout",
     "output_type": "stream",
     "text": [
      "Quartiles are: [25.75, 34.5, 49.5]\n"
     ]
    }
   ],
   "source": [
    "import statistics as s\n",
    "\n",
    "x = [22,27,32,37,42,72]\n",
    "\n",
    "quartiles = s.quantiles(x, n=4)\n",
    "print(\"Quartiles are: \" + str(quartiles))"
   ]
  },
  {
   "cell_type": "code",
   "execution_count": 80,
   "id": "54f75da3",
   "metadata": {},
   "outputs": [
    {
     "name": "stdout",
     "output_type": "stream",
     "text": [
      "IQR equals: 12.5\n"
     ]
    }
   ],
   "source": [
    "\n",
    "\n",
    "import numpy as np\n",
    "\n",
    "x = [22,27,32,37,42,72]\n",
    "\n",
    "q1 = np.percentile(x, 25)\n",
    "q3 = np.percentile(x, 75)\n",
    "iqr = q3 - q1\n",
    "print(\"IQR equals: \" + str(iqr))"
   ]
  },
  {
   "cell_type": "code",
   "execution_count": 81,
   "id": "ccd323a6",
   "metadata": {},
   "outputs": [
    {
     "name": "stdout",
     "output_type": "stream",
     "text": [
      "IQR equals: 12.5\n"
     ]
    }
   ],
   "source": [
    "import numpy as np\n",
    "\n",
    "x = [22,27,32,37,42,72]\n",
    "\n",
    "q1 = np.percentile(x, 25)\n",
    "q3 = np.percentile(x, 75)\n",
    "iqr = q3 - q1\n",
    "print(\"IQR equals: \" + str(iqr))"
   ]
  },
  {
   "cell_type": "code",
   "execution_count": 3,
   "id": "0de51f1d",
   "metadata": {},
   "outputs": [],
   "source": [
    "#Q2. From the data given in file: (Regression.xls) do the following \n",
    "#1. Apply regression and find accuracy of the model . [10 Marks]\n",
    "#2. find the coefficient of correlation between the marks in Economics and Statistics"
   ]
  },
  {
   "cell_type": "code",
   "execution_count": 4,
   "id": "3f4b43cc",
   "metadata": {},
   "outputs": [],
   "source": [
    "import pandas as pd\n",
    "import numpy as np\n",
    "import numpy as np\n",
    "import matplotlib.pyplot as plt\n",
    "from sklearn.linear_model import LinearRegression"
   ]
  },
  {
   "cell_type": "code",
   "execution_count": 5,
   "id": "de528e98",
   "metadata": {},
   "outputs": [
    {
     "ename": "SyntaxError",
     "evalue": "invalid syntax (Temp/ipykernel_11468/3992037532.py, line 1)",
     "output_type": "error",
     "traceback": [
      "\u001b[1;36m  File \u001b[1;32m\"C:\\Users\\DELL\\AppData\\Local\\Temp/ipykernel_11468/3992037532.py\"\u001b[1;36m, line \u001b[1;32m1\u001b[0m\n\u001b[1;33m    given data\u001b[0m\n\u001b[1;37m          ^\u001b[0m\n\u001b[1;31mSyntaxError\u001b[0m\u001b[1;31m:\u001b[0m invalid syntax\n"
     ]
    }
   ],
   "source": [
    "given data \n",
    "Marks in Economics Marks in Statistics\n",
    "25                       43\n",
    "28                       46\n",
    "35                       49\n",
    "32                       41\n",
    "31                       36\n",
    "36                       32\n",
    "29                       31\n",
    "38                       30\n",
    "34                       33\n",
    "32                       39\n",
    "\n"
   ]
  },
  {
   "cell_type": "code",
   "execution_count": null,
   "id": "aef71701",
   "metadata": {},
   "outputs": [],
   "source": [
    "dict1={\n",
    "    \"Marks in Economics Marks\":[25,28,35,32,31,36,29,38,34,32],\n",
    "   \"Marks in Statistics\" :[43,46,49,42,36,32,31,30,33,39]\n",
    "}\n",
    "    \n",
    "    "
   ]
  },
  {
   "cell_type": "code",
   "execution_count": null,
   "id": "0b8d0833",
   "metadata": {},
   "outputs": [],
   "source": [
    "df=pd.DataFrame(dict1)\n",
    "df"
   ]
  },
  {
   "cell_type": "code",
   "execution_count": null,
   "id": "3bd35d37",
   "metadata": {},
   "outputs": [],
   "source": [
    "df.columns\n"
   ]
  },
  {
   "cell_type": "code",
   "execution_count": null,
   "id": "09cfa317",
   "metadata": {},
   "outputs": [],
   "source": [
    "x=np.array(df['Marks in Economics Marks'])"
   ]
  },
  {
   "cell_type": "code",
   "execution_count": null,
   "id": "0c549d90",
   "metadata": {},
   "outputs": [],
   "source": [
    "x"
   ]
  },
  {
   "cell_type": "code",
   "execution_count": null,
   "id": "9d10d73b",
   "metadata": {},
   "outputs": [],
   "source": [
    "y=np.array(df[\"Marks in Statistics\"])"
   ]
  },
  {
   "cell_type": "code",
   "execution_count": null,
   "id": "03ef152e",
   "metadata": {},
   "outputs": [],
   "source": [
    "y"
   ]
  },
  {
   "cell_type": "code",
   "execution_count": null,
   "id": "9b9e938a",
   "metadata": {},
   "outputs": [],
   "source": [
    "\n",
    "\n",
    "train_x=np.array(x)\n",
    "train_y=np.array(y)\n",
    "\n",
    "\n",
    " "
   ]
  },
  {
   "cell_type": "code",
   "execution_count": 8,
   "id": "a8fc43c9",
   "metadata": {},
   "outputs": [
    {
     "ename": "NameError",
     "evalue": "name 'train_x' is not defined",
     "output_type": "error",
     "traceback": [
      "\u001b[1;31m---------------------------------------------------------------------------\u001b[0m",
      "\u001b[1;31mNameError\u001b[0m                                 Traceback (most recent call last)",
      "\u001b[1;32m~\\AppData\\Local\\Temp/ipykernel_11468/4039022254.py\u001b[0m in \u001b[0;36m<module>\u001b[1;34m\u001b[0m\n\u001b[0;32m      1\u001b[0m \u001b[0mmodel\u001b[0m \u001b[1;33m=\u001b[0m \u001b[0mLinearRegression\u001b[0m\u001b[1;33m(\u001b[0m\u001b[0mfit_intercept\u001b[0m\u001b[1;33m=\u001b[0m\u001b[1;32mTrue\u001b[0m\u001b[1;33m)\u001b[0m\u001b[1;33m\u001b[0m\u001b[1;33m\u001b[0m\u001b[0m\n\u001b[1;32m----> 2\u001b[1;33m \u001b[0mmodel\u001b[0m\u001b[1;33m.\u001b[0m\u001b[0mfit\u001b[0m\u001b[1;33m(\u001b[0m\u001b[0mtrain_x\u001b[0m\u001b[1;33m[\u001b[0m\u001b[1;33m:\u001b[0m\u001b[1;33m,\u001b[0m\u001b[0mnp\u001b[0m\u001b[1;33m.\u001b[0m\u001b[0mnewaxis\u001b[0m\u001b[1;33m]\u001b[0m\u001b[1;33m,\u001b[0m \u001b[0mtrain_y\u001b[0m\u001b[1;33m[\u001b[0m\u001b[1;33m:\u001b[0m\u001b[1;33m,\u001b[0m\u001b[0mnp\u001b[0m\u001b[1;33m.\u001b[0m\u001b[0mnewaxis\u001b[0m\u001b[1;33m]\u001b[0m\u001b[1;33m)\u001b[0m\u001b[1;33m\u001b[0m\u001b[1;33m\u001b[0m\u001b[0m\n\u001b[0m\u001b[0;32m      3\u001b[0m \u001b[1;33m\u001b[0m\u001b[0m\n\u001b[0;32m      4\u001b[0m \u001b[0mprint\u001b[0m\u001b[1;33m(\u001b[0m\u001b[1;34m\"Coef:\"\u001b[0m\u001b[1;33m,\u001b[0m\u001b[0mmodel\u001b[0m\u001b[1;33m.\u001b[0m\u001b[0mcoef_\u001b[0m\u001b[1;33m,\u001b[0m \u001b[1;34m\" Intercept:\"\u001b[0m\u001b[1;33m,\u001b[0m\u001b[0mmodel\u001b[0m\u001b[1;33m.\u001b[0m\u001b[0mintercept_\u001b[0m\u001b[1;33m)\u001b[0m\u001b[1;33m\u001b[0m\u001b[1;33m\u001b[0m\u001b[0m\n\u001b[0;32m      5\u001b[0m \u001b[1;33m\u001b[0m\u001b[0m\n",
      "\u001b[1;31mNameError\u001b[0m: name 'train_x' is not defined"
     ]
    }
   ],
   "source": [
    "\n",
    "\n",
    "model = LinearRegression(fit_intercept=True)\n",
    "model.fit(train_x[:,np.newaxis], train_y[:,np.newaxis])\n",
    "\n",
    "print(\"Coef:\",model.coef_, \" Intercept:\",model.intercept_)\n",
    "\n",
    "yfit=model.predict(train_x[:,np.newaxis])\n",
    "\n",
    "V=np.newaxis\n",
    "print(V)\n",
    "\n",
    "scatter(train_x, train_y)\n",
    "plt.plot(train_x, yfit, color='red');\n",
    "plt.show()\n",
    " "
   ]
  },
  {
   "cell_type": "code",
   "execution_count": 6,
   "id": "d6fdd40a",
   "metadata": {},
   "outputs": [
    {
     "name": "stdout",
     "output_type": "stream",
     "text": [
      "None\n"
     ]
    }
   ],
   "source": [
    "V=np.newaxis\n",
    "print(V)"
   ]
  },
  {
   "cell_type": "code",
   "execution_count": null,
   "id": "abc5434f",
   "metadata": {},
   "outputs": [],
   "source": []
  },
  {
   "cell_type": "code",
   "execution_count": null,
   "id": "2fc9f363",
   "metadata": {},
   "outputs": [],
   "source": []
  }
 ],
 "metadata": {
  "kernelspec": {
   "display_name": "Python 3 (ipykernel)",
   "language": "python",
   "name": "python3"
  },
  "language_info": {
   "codemirror_mode": {
    "name": "ipython",
    "version": 3
   },
   "file_extension": ".py",
   "mimetype": "text/x-python",
   "name": "python",
   "nbconvert_exporter": "python",
   "pygments_lexer": "ipython3",
   "version": "3.9.7"
  }
 },
 "nbformat": 4,
 "nbformat_minor": 5
}
