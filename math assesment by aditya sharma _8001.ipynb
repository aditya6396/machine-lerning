{
 "cells": [
  {
   "cell_type": "markdown",
   "id": "a281f9e8",
   "metadata": {},
   "source": [
    "Q2 \n",
    "ans-b . Global minima"
   ]
  },
  {
   "cell_type": "code",
   "execution_count": null,
   "id": "9e0dcf44",
   "metadata": {},
   "outputs": [],
   "source": [
    "Q1 \n",
    "Ans-stochastic gradient descent"
   ]
  },
  {
   "cell_type": "code",
   "execution_count": null,
   "id": "af1e9dab",
   "metadata": {},
   "outputs": [],
   "source": [
    "Q3\n",
    "ans-B-If alpha is very small, gradient descent can be slow to\n",
    "converge. If alpha is too large, gradient descent will\n",
    "overshoot"
   ]
  },
  {
   "cell_type": "code",
   "execution_count": null,
   "id": "cfbc5d0b",
   "metadata": {},
   "outputs": [],
   "source": [
    "Q4\n",
    "ans- the realtionship btw euclidean distance and cosine distance is proportional to the dot product of two vectors and inversely proportional to the product of their magnitudes.\n",
    " euclidean distance corresponds to the L2-norm of a difference between vectors."
   ]
  },
  {
   "cell_type": "markdown",
   "id": "6d110bfc",
   "metadata": {},
   "source": [
    "Q5\n",
    "ans- . factors are known as variables.if large number of data is provide there is large number of feature also we their. it the harder it gets to visualize the training set and then work on it. Sometimes most of these features are correlated, and hence redundant. This is where dimensionality reduction algorithms we use in a ml.\n",
    "adavntage of D.R\n",
    "1 compution will be decrease\n",
    "2 stroge will be decrese\n",
    "3 data visulation will be good\n",
    "4 removing the multi-collinear\n",
    "\n",
    "disadvantage\n",
    "1 important data will be removed by mistake.\n",
    "2 its taken time to set up or run the data.\n",
    "3 the accuary will be always chnage it not given constant accuracy in a every given run\n"
   ]
  },
  {
   "cell_type": "code",
   "execution_count": 9,
   "id": "eceb9119",
   "metadata": {},
   "outputs": [
    {
     "name": "stdout",
     "output_type": "stream",
     "text": [
      "Result  =  [[0]]\n"
     ]
    }
   ],
   "source": [
    "#Q5\n",
    "#Orthogonal Vectors -two vectors are orthogonal to each other when their dot product is 0\n",
    "import numpy as np\n",
    "\n",
    "  \n",
    "# Taking two vectors\n",
    "v1 = [[1, -2, 4]]\n",
    "v2 = [[2, 5, 2]]\n",
    "  \n",
    "# Transpose of v1\n",
    "transpose = np.transpose(v1)\n",
    "  \n",
    "# multuple of vectrors\n",
    "result = np.dot(v2, transpose)\n",
    "print(\"Result  = \", result)"
   ]
  },
  {
   "cell_type": "code",
   "execution_count": 11,
   "id": "0aabdf79",
   "metadata": {},
   "outputs": [],
   "source": []
  },
  {
   "cell_type": "code",
   "execution_count": null,
   "id": "e50797f2",
   "metadata": {},
   "outputs": [],
   "source": []
  }
 ],
 "metadata": {
  "kernelspec": {
   "display_name": "Python 3 (ipykernel)",
   "language": "python",
   "name": "python3"
  },
  "language_info": {
   "codemirror_mode": {
    "name": "ipython",
    "version": 3
   },
   "file_extension": ".py",
   "mimetype": "text/x-python",
   "name": "python",
   "nbconvert_exporter": "python",
   "pygments_lexer": "ipython3",
   "version": "3.9.7"
  }
 },
 "nbformat": 4,
 "nbformat_minor": 5
}
