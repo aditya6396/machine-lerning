{
 "cells": [
  {
   "cell_type": "markdown",
   "id": "6e0a6793",
   "metadata": {},
   "source": [
    "# A. Compute performance metrics for the given data '5_a.csv'\n",
    " <pre>  <b>Note 1:</b> in this data you can see number of positive points >> number of negatives points\n",
    "   <b>Note 2:</b> use pandas or numpy to read the data from <b>5_a.csv</b>\n",
    "   <b>Note 3:</b> you need to derive the class labels from given score</pre> $y^{pred}= \\text{[0 if y_score < 0.5 else 1]}$\n",
    "\n",
    "<pre>\n",
    "<ol>\n",
    "<li> Compute Confusion Matrix </li>\n",
    "<li> Compute F1 Score </li>\n",
    "<li> Compute AUC Score, you need to compute different thresholds and for each threshold compute tpr,fpr and then use               numpy.trapz(tpr_array, fpr_array) <a href='https://stackoverflow.com/q/53603376/4084039'>https://stackoverflow.com/q/53603376/4084039</a>, <a href='https://stackoverflow.com/a/39678975/4084039'>https://stackoverflow.com/a/39678975/4084039</a> Note: it should be numpy.trapz(tpr_array, fpr_array) not numpy.trapz(fpr_array, tpr_array)\n",
    "Note- Make sure that you arrange your probability scores in descending order while calculating AUC</li>\n",
    "<li> Compute Accuracy Score </li>\n",
    "</ol>\n",
    "</pre>"
   ]
  },
  {
   "cell_type": "code",
   "execution_count": 142,
   "id": "1abf13cc",
   "metadata": {},
   "outputs": [],
   "source": [
    "import numpy as np\n",
    "import pandas as pd"
   ]
  },
  {
   "cell_type": "code",
   "execution_count": 143,
   "id": "a8c27e7e",
   "metadata": {},
   "outputs": [
    {
     "data": {
      "text/html": [
       "<div>\n",
       "<style scoped>\n",
       "    .dataframe tbody tr th:only-of-type {\n",
       "        vertical-align: middle;\n",
       "    }\n",
       "\n",
       "    .dataframe tbody tr th {\n",
       "        vertical-align: top;\n",
       "    }\n",
       "\n",
       "    .dataframe thead th {\n",
       "        text-align: right;\n",
       "    }\n",
       "</style>\n",
       "<table border=\"1\" class=\"dataframe\">\n",
       "  <thead>\n",
       "    <tr style=\"text-align: right;\">\n",
       "      <th></th>\n",
       "      <th>y</th>\n",
       "      <th>proba</th>\n",
       "    </tr>\n",
       "  </thead>\n",
       "  <tbody>\n",
       "    <tr>\n",
       "      <th>0</th>\n",
       "      <td>1.0</td>\n",
       "      <td>0.637387</td>\n",
       "    </tr>\n",
       "    <tr>\n",
       "      <th>1</th>\n",
       "      <td>1.0</td>\n",
       "      <td>0.635165</td>\n",
       "    </tr>\n",
       "    <tr>\n",
       "      <th>2</th>\n",
       "      <td>1.0</td>\n",
       "      <td>0.766586</td>\n",
       "    </tr>\n",
       "    <tr>\n",
       "      <th>3</th>\n",
       "      <td>1.0</td>\n",
       "      <td>0.724564</td>\n",
       "    </tr>\n",
       "    <tr>\n",
       "      <th>4</th>\n",
       "      <td>1.0</td>\n",
       "      <td>0.889199</td>\n",
       "    </tr>\n",
       "    <tr>\n",
       "      <th>...</th>\n",
       "      <td>...</td>\n",
       "      <td>...</td>\n",
       "    </tr>\n",
       "    <tr>\n",
       "      <th>10095</th>\n",
       "      <td>1.0</td>\n",
       "      <td>0.665371</td>\n",
       "    </tr>\n",
       "    <tr>\n",
       "      <th>10096</th>\n",
       "      <td>1.0</td>\n",
       "      <td>0.607961</td>\n",
       "    </tr>\n",
       "    <tr>\n",
       "      <th>10097</th>\n",
       "      <td>1.0</td>\n",
       "      <td>0.777724</td>\n",
       "    </tr>\n",
       "    <tr>\n",
       "      <th>10098</th>\n",
       "      <td>1.0</td>\n",
       "      <td>0.846036</td>\n",
       "    </tr>\n",
       "    <tr>\n",
       "      <th>10099</th>\n",
       "      <td>1.0</td>\n",
       "      <td>0.679507</td>\n",
       "    </tr>\n",
       "  </tbody>\n",
       "</table>\n",
       "<p>10100 rows × 2 columns</p>\n",
       "</div>"
      ],
      "text/plain": [
       "         y     proba\n",
       "0      1.0  0.637387\n",
       "1      1.0  0.635165\n",
       "2      1.0  0.766586\n",
       "3      1.0  0.724564\n",
       "4      1.0  0.889199\n",
       "...    ...       ...\n",
       "10095  1.0  0.665371\n",
       "10096  1.0  0.607961\n",
       "10097  1.0  0.777724\n",
       "10098  1.0  0.846036\n",
       "10099  1.0  0.679507\n",
       "\n",
       "[10100 rows x 2 columns]"
      ]
     },
     "execution_count": 143,
     "metadata": {},
     "output_type": "execute_result"
    }
   ],
   "source": [
    "data=pd.read_csv(\"5_a.csv\")\n",
    "data"
   ]
  },
  {
   "cell_type": "code",
   "execution_count": 144,
   "id": "712ed4ba",
   "metadata": {},
   "outputs": [
    {
     "data": {
      "text/html": [
       "<div>\n",
       "<style scoped>\n",
       "    .dataframe tbody tr th:only-of-type {\n",
       "        vertical-align: middle;\n",
       "    }\n",
       "\n",
       "    .dataframe tbody tr th {\n",
       "        vertical-align: top;\n",
       "    }\n",
       "\n",
       "    .dataframe thead th {\n",
       "        text-align: right;\n",
       "    }\n",
       "</style>\n",
       "<table border=\"1\" class=\"dataframe\">\n",
       "  <thead>\n",
       "    <tr style=\"text-align: right;\">\n",
       "      <th></th>\n",
       "      <th>y</th>\n",
       "      <th>proba</th>\n",
       "    </tr>\n",
       "  </thead>\n",
       "  <tbody>\n",
       "    <tr>\n",
       "      <th>0</th>\n",
       "      <td>1.0</td>\n",
       "      <td>0.637387</td>\n",
       "    </tr>\n",
       "    <tr>\n",
       "      <th>1</th>\n",
       "      <td>1.0</td>\n",
       "      <td>0.635165</td>\n",
       "    </tr>\n",
       "    <tr>\n",
       "      <th>2</th>\n",
       "      <td>1.0</td>\n",
       "      <td>0.766586</td>\n",
       "    </tr>\n",
       "    <tr>\n",
       "      <th>3</th>\n",
       "      <td>1.0</td>\n",
       "      <td>0.724564</td>\n",
       "    </tr>\n",
       "    <tr>\n",
       "      <th>4</th>\n",
       "      <td>1.0</td>\n",
       "      <td>0.889199</td>\n",
       "    </tr>\n",
       "  </tbody>\n",
       "</table>\n",
       "</div>"
      ],
      "text/plain": [
       "     y     proba\n",
       "0  1.0  0.637387\n",
       "1  1.0  0.635165\n",
       "2  1.0  0.766586\n",
       "3  1.0  0.724564\n",
       "4  1.0  0.889199"
      ]
     },
     "execution_count": 144,
     "metadata": {},
     "output_type": "execute_result"
    }
   ],
   "source": [
    "data.head()"
   ]
  },
  {
   "cell_type": "code",
   "execution_count": 145,
   "id": "87332636",
   "metadata": {},
   "outputs": [
    {
     "data": {
      "text/html": [
       "<div>\n",
       "<style scoped>\n",
       "    .dataframe tbody tr th:only-of-type {\n",
       "        vertical-align: middle;\n",
       "    }\n",
       "\n",
       "    .dataframe tbody tr th {\n",
       "        vertical-align: top;\n",
       "    }\n",
       "\n",
       "    .dataframe thead th {\n",
       "        text-align: right;\n",
       "    }\n",
       "</style>\n",
       "<table border=\"1\" class=\"dataframe\">\n",
       "  <thead>\n",
       "    <tr style=\"text-align: right;\">\n",
       "      <th></th>\n",
       "      <th>y</th>\n",
       "      <th>proba</th>\n",
       "      <th>y_pred</th>\n",
       "    </tr>\n",
       "  </thead>\n",
       "  <tbody>\n",
       "    <tr>\n",
       "      <th>0</th>\n",
       "      <td>1.0</td>\n",
       "      <td>0.637387</td>\n",
       "      <td>1</td>\n",
       "    </tr>\n",
       "    <tr>\n",
       "      <th>1</th>\n",
       "      <td>1.0</td>\n",
       "      <td>0.635165</td>\n",
       "      <td>1</td>\n",
       "    </tr>\n",
       "    <tr>\n",
       "      <th>2</th>\n",
       "      <td>1.0</td>\n",
       "      <td>0.766586</td>\n",
       "      <td>1</td>\n",
       "    </tr>\n",
       "    <tr>\n",
       "      <th>3</th>\n",
       "      <td>1.0</td>\n",
       "      <td>0.724564</td>\n",
       "      <td>1</td>\n",
       "    </tr>\n",
       "    <tr>\n",
       "      <th>4</th>\n",
       "      <td>1.0</td>\n",
       "      <td>0.889199</td>\n",
       "      <td>1</td>\n",
       "    </tr>\n",
       "  </tbody>\n",
       "</table>\n",
       "</div>"
      ],
      "text/plain": [
       "     y     proba  y_pred\n",
       "0  1.0  0.637387       1\n",
       "1  1.0  0.635165       1\n",
       "2  1.0  0.766586       1\n",
       "3  1.0  0.724564       1\n",
       "4  1.0  0.889199       1"
      ]
     },
     "execution_count": 145,
     "metadata": {},
     "output_type": "execute_result"
    }
   ],
   "source": [
    "# Derive the class labels from given score\n",
    "f = lambda x: 0 if x < 0.5 else 1\n",
    "data['y_pred'] = data['proba'].map(f)\n",
    "data.head()"
   ]
  },
  {
   "cell_type": "code",
   "execution_count": 146,
   "id": "b1ea5702",
   "metadata": {},
   "outputs": [
    {
     "name": "stdout",
     "output_type": "stream",
     "text": [
      "Positive points:  10000\n",
      "Negative points:  100\n"
     ]
    }
   ],
   "source": [
    "positive = 0\n",
    "negative = 0\n",
    "for i in range(0, len(data)):\n",
    "    if data['y'].loc[i] == 1:\n",
    "        positive += 1\n",
    "    elif data['y'].loc[i] == 0:\n",
    "        negative += 1\n",
    "        \n",
    "print(\"Positive points: \", positive)\n",
    "print(\"Negative points: \", negative)"
   ]
  },
  {
   "cell_type": "code",
   "execution_count": 147,
   "id": "a54904ab",
   "metadata": {},
   "outputs": [
    {
     "name": "stdout",
     "output_type": "stream",
     "text": [
      "Confusion Matrix: \n",
      "[[    0     0]\n",
      " [  100 10000]]\n"
     ]
    }
   ],
   "source": [
    "# Generate the confusion matrix\n",
    "\n",
    "confusion_matrix = []\n",
    "TN = int(data[(data.y == 0) & (data.y_pred == 0)].count()[0])\n",
    "FN = int(data[(data.y == 1) & (data.y_pred == 0)].count()[0])\n",
    "FP = int(data[(data.y == 0) & (data.y_pred == 1)].count()[0])\n",
    "TP = int(data[(data.y == 1) & (data.y_pred == 1)].count()[0])\n",
    "\n",
    "confusion_matrix.append(TN)\n",
    "confusion_matrix.append(FN)\n",
    "confusion_matrix.append(FP)\n",
    "confusion_matrix.append(TP)\n",
    "\n",
    "X = np.reshape(confusion_matrix, (2, 2))\n",
    "print(\"Confusion Matrix: \")\n",
    "print(X)"
   ]
  },
  {
   "cell_type": "code",
   "execution_count": 148,
   "id": "2d6769d3",
   "metadata": {},
   "outputs": [
    {
     "name": "stdout",
     "output_type": "stream",
     "text": [
      "F1_score:  0.9950248756218906\n"
     ]
    }
   ],
   "source": [
    "# Compute F1-Score\n",
    "# To compute the F1-Score, calculate Precision and Recall\n",
    "Precision = TP / (TP + FP)\n",
    "\n",
    "Recall = TP / (FN + TP)\n",
    "\n",
    "F1_score = 2 * Precision * Recall / (Precision + Recall)\n",
    "print(\"F1_score: \", F1_score)"
   ]
  },
  {
   "cell_type": "code",
   "execution_count": 149,
   "id": "19a3abe7",
   "metadata": {},
   "outputs": [
    {
     "name": "stdout",
     "output_type": "stream",
     "text": [
      "Accuracy:  0.9900990099009901\n"
     ]
    }
   ],
   "source": [
    "# Compute Accuracy\n",
    "accuracy = (TN + TP) / (TN + FN + FP + TP)\n",
    "print(\"Accuracy: \", accuracy)"
   ]
  },
  {
   "cell_type": "markdown",
   "id": "db5ffa50",
   "metadata": {},
   "source": [
    "# B Compute performance metrics for the given data 5_b.csv\n",
    "   Note 1: in this data you can see number of positive points << number of negatives points\n",
    "   Note 2: use pandas or numpy to read the data from 5_b.csv\n",
    "   Note 3: you need to derive the class labels from given score\n",
    "\n",
    " Compute Confusion Matrix \n",
    "\n",
    " Compute F1 Score \n",
    "\n",
    " Compute AUC Score, you need to compute different thresholds and for each threshold compute tpr,fpr and then use               numpy.trapz(tpr_array, fpr_array) https://stackoverflow.com/q/53603376/4084039, https://stackoverflow.com/a/39678975/4084039\n",
    "\n",
    " Compute Accuracy Score \n"
   ]
  },
  {
   "cell_type": "code",
   "execution_count": 151,
   "id": "2d712de2",
   "metadata": {},
   "outputs": [],
   "source": [
    "import numpy as np\n",
    "import pandas as pd"
   ]
  },
  {
   "cell_type": "code",
   "execution_count": 152,
   "id": "8b0d3f05",
   "metadata": {},
   "outputs": [
    {
     "data": {
      "text/html": [
       "<div>\n",
       "<style scoped>\n",
       "    .dataframe tbody tr th:only-of-type {\n",
       "        vertical-align: middle;\n",
       "    }\n",
       "\n",
       "    .dataframe tbody tr th {\n",
       "        vertical-align: top;\n",
       "    }\n",
       "\n",
       "    .dataframe thead th {\n",
       "        text-align: right;\n",
       "    }\n",
       "</style>\n",
       "<table border=\"1\" class=\"dataframe\">\n",
       "  <thead>\n",
       "    <tr style=\"text-align: right;\">\n",
       "      <th></th>\n",
       "      <th>y</th>\n",
       "      <th>proba</th>\n",
       "    </tr>\n",
       "  </thead>\n",
       "  <tbody>\n",
       "    <tr>\n",
       "      <th>0</th>\n",
       "      <td>0.0</td>\n",
       "      <td>0.281035</td>\n",
       "    </tr>\n",
       "    <tr>\n",
       "      <th>1</th>\n",
       "      <td>0.0</td>\n",
       "      <td>0.465152</td>\n",
       "    </tr>\n",
       "    <tr>\n",
       "      <th>2</th>\n",
       "      <td>0.0</td>\n",
       "      <td>0.352793</td>\n",
       "    </tr>\n",
       "    <tr>\n",
       "      <th>3</th>\n",
       "      <td>0.0</td>\n",
       "      <td>0.157818</td>\n",
       "    </tr>\n",
       "    <tr>\n",
       "      <th>4</th>\n",
       "      <td>0.0</td>\n",
       "      <td>0.276648</td>\n",
       "    </tr>\n",
       "  </tbody>\n",
       "</table>\n",
       "</div>"
      ],
      "text/plain": [
       "     y     proba\n",
       "0  0.0  0.281035\n",
       "1  0.0  0.465152\n",
       "2  0.0  0.352793\n",
       "3  0.0  0.157818\n",
       "4  0.0  0.276648"
      ]
     },
     "execution_count": 152,
     "metadata": {},
     "output_type": "execute_result"
    }
   ],
   "source": [
    "# write your code\n",
    "data2 = pd.read_csv(\"5_b.csv\")\n",
    "data2.head()"
   ]
  },
  {
   "cell_type": "code",
   "execution_count": 153,
   "id": "7d493873",
   "metadata": {},
   "outputs": [
    {
     "data": {
      "text/html": [
       "<div>\n",
       "<style scoped>\n",
       "    .dataframe tbody tr th:only-of-type {\n",
       "        vertical-align: middle;\n",
       "    }\n",
       "\n",
       "    .dataframe tbody tr th {\n",
       "        vertical-align: top;\n",
       "    }\n",
       "\n",
       "    .dataframe thead th {\n",
       "        text-align: right;\n",
       "    }\n",
       "</style>\n",
       "<table border=\"1\" class=\"dataframe\">\n",
       "  <thead>\n",
       "    <tr style=\"text-align: right;\">\n",
       "      <th></th>\n",
       "      <th>y</th>\n",
       "      <th>proba</th>\n",
       "      <th>y_pred</th>\n",
       "    </tr>\n",
       "  </thead>\n",
       "  <tbody>\n",
       "    <tr>\n",
       "      <th>0</th>\n",
       "      <td>0.0</td>\n",
       "      <td>0.281035</td>\n",
       "      <td>0</td>\n",
       "    </tr>\n",
       "    <tr>\n",
       "      <th>1</th>\n",
       "      <td>0.0</td>\n",
       "      <td>0.465152</td>\n",
       "      <td>0</td>\n",
       "    </tr>\n",
       "    <tr>\n",
       "      <th>2</th>\n",
       "      <td>0.0</td>\n",
       "      <td>0.352793</td>\n",
       "      <td>0</td>\n",
       "    </tr>\n",
       "    <tr>\n",
       "      <th>3</th>\n",
       "      <td>0.0</td>\n",
       "      <td>0.157818</td>\n",
       "      <td>0</td>\n",
       "    </tr>\n",
       "    <tr>\n",
       "      <th>4</th>\n",
       "      <td>0.0</td>\n",
       "      <td>0.276648</td>\n",
       "      <td>0</td>\n",
       "    </tr>\n",
       "  </tbody>\n",
       "</table>\n",
       "</div>"
      ],
      "text/plain": [
       "     y     proba  y_pred\n",
       "0  0.0  0.281035       0\n",
       "1  0.0  0.465152       0\n",
       "2  0.0  0.352793       0\n",
       "3  0.0  0.157818       0\n",
       "4  0.0  0.276648       0"
      ]
     },
     "execution_count": 153,
     "metadata": {},
     "output_type": "execute_result"
    }
   ],
   "source": [
    "# Derive the class labels from given score\n",
    "f = lambda x: 0 if x < 0.5 else 1\n",
    "data2['y_pred'] = data2['proba'].map(f)\n",
    "data2.head()"
   ]
  },
  {
   "cell_type": "code",
   "execution_count": 154,
   "id": "89cef77b",
   "metadata": {},
   "outputs": [
    {
     "name": "stdout",
     "output_type": "stream",
     "text": [
      "Positive points:  100\n",
      "Negative points:  10000\n"
     ]
    }
   ],
   "source": [
    "positive = 0\n",
    "negative = 0\n",
    "for i in range(0, len(data2)):\n",
    "    if data2['y'].loc[i] == 1:\n",
    "        positive += 1\n",
    "    elif data2['y'].loc[i] == 0:\n",
    "        negative += 1\n",
    "        \n",
    "print(\"Positive points: \", positive)\n",
    "print(\"Negative points: \", negative)"
   ]
  },
  {
   "cell_type": "code",
   "execution_count": 155,
   "id": "1a53302d",
   "metadata": {},
   "outputs": [
    {
     "name": "stdout",
     "output_type": "stream",
     "text": [
      "Confusion Matrix:\n",
      "[[9761   45]\n",
      " [ 239   55]]\n"
     ]
    }
   ],
   "source": [
    "# Generate the confusion matrix\n",
    "\n",
    "confusion_matrix = []\n",
    "TN = int(data2[(data2.y == 0) & (data2.y_pred == 0)].count()[0])\n",
    "FN = int(data2[(data2.y == 1) & (data2.y_pred == 0)].count()[0])\n",
    "FP = int(data2[(data2.y == 0) & (data2.y_pred == 1)].count()[0])\n",
    "TP = int(data2[(data2.y == 1) & (data2.y_pred == 1)].count()[0])\n",
    "\n",
    "confusion_matrix.append(TN)\n",
    "confusion_matrix.append(FN)\n",
    "confusion_matrix.append(FP)\n",
    "confusion_matrix.append(TP)\n",
    "\n",
    "X = np.reshape(confusion_matrix, (2, 2))\n",
    "print(\"Confusion Matrix:\") \n",
    "print(X)"
   ]
  },
  {
   "cell_type": "code",
   "execution_count": 156,
   "id": "34265a2c",
   "metadata": {},
   "outputs": [
    {
     "name": "stdout",
     "output_type": "stream",
     "text": [
      "F1_score:  0.2791878172588833\n"
     ]
    }
   ],
   "source": [
    "# Compute F1-Score\n",
    "# To compute the F1-Score, calculate Precision and Recall\n",
    "Precision = TP / (TP + FP)\n",
    "\n",
    "Recall = TP / (FN + TP)\n",
    "\n",
    "F1_score = 2 * Precision * Recall / (Precision + Recall)\n",
    "print(\"F1_score: \", F1_score)"
   ]
  },
  {
   "cell_type": "code",
   "execution_count": 157,
   "id": "0e89d248",
   "metadata": {},
   "outputs": [
    {
     "name": "stdout",
     "output_type": "stream",
     "text": [
      "Accuracy:  0.9718811881188119\n"
     ]
    }
   ],
   "source": [
    "# Compute Accuracy\n",
    "accuracy = (TN + TP) / (TN + FN + FP + TP)\n",
    "print(\"Accuracy: \", accuracy)"
   ]
  },
  {
   "cell_type": "markdown",
   "id": "6f139024",
   "metadata": {},
   "source": [
    "### C. Compute the best threshold (similarly to ROC curve computation) of probability which gives lowest values of metric <b>A</b> for the given data \n",
    "<br>\n",
    "\n",
    "you will be predicting label of a data points like this: $y^{pred}= \\text{[0 if y_score < threshold  else 1]}$\n",
    "\n",
    "$ A = 500 \\times \\text{number of false negative} + 100 \\times \\text{numebr of false positive}$\n",
    "\n",
    "<pre>\n",
    "   <b>Note 1:</b> in this data you can see number of negative points > number of positive points\n",
    "   <b>Note 2:</b> use pandas or numpy to read the data from <b>5_c.csv</b>\n",
    "</pre>"
   ]
  },
  {
   "cell_type": "code",
   "execution_count": 159,
   "id": "45237caa",
   "metadata": {},
   "outputs": [],
   "source": [
    "import numpy as np\n",
    "import pandas as pd"
   ]
  },
  {
   "cell_type": "code",
   "execution_count": 160,
   "id": "94bf94e4",
   "metadata": {},
   "outputs": [
    {
     "data": {
      "text/html": [
       "<div>\n",
       "<style scoped>\n",
       "    .dataframe tbody tr th:only-of-type {\n",
       "        vertical-align: middle;\n",
       "    }\n",
       "\n",
       "    .dataframe tbody tr th {\n",
       "        vertical-align: top;\n",
       "    }\n",
       "\n",
       "    .dataframe thead th {\n",
       "        text-align: right;\n",
       "    }\n",
       "</style>\n",
       "<table border=\"1\" class=\"dataframe\">\n",
       "  <thead>\n",
       "    <tr style=\"text-align: right;\">\n",
       "      <th></th>\n",
       "      <th>y</th>\n",
       "      <th>prob</th>\n",
       "    </tr>\n",
       "  </thead>\n",
       "  <tbody>\n",
       "    <tr>\n",
       "      <th>0</th>\n",
       "      <td>0</td>\n",
       "      <td>0.458521</td>\n",
       "    </tr>\n",
       "    <tr>\n",
       "      <th>1</th>\n",
       "      <td>0</td>\n",
       "      <td>0.505037</td>\n",
       "    </tr>\n",
       "    <tr>\n",
       "      <th>2</th>\n",
       "      <td>0</td>\n",
       "      <td>0.418652</td>\n",
       "    </tr>\n",
       "    <tr>\n",
       "      <th>3</th>\n",
       "      <td>0</td>\n",
       "      <td>0.412057</td>\n",
       "    </tr>\n",
       "    <tr>\n",
       "      <th>4</th>\n",
       "      <td>0</td>\n",
       "      <td>0.375579</td>\n",
       "    </tr>\n",
       "  </tbody>\n",
       "</table>\n",
       "</div>"
      ],
      "text/plain": [
       "   y      prob\n",
       "0  0  0.458521\n",
       "1  0  0.505037\n",
       "2  0  0.418652\n",
       "3  0  0.412057\n",
       "4  0  0.375579"
      ]
     },
     "execution_count": 160,
     "metadata": {},
     "output_type": "execute_result"
    }
   ],
   "source": [
    "# write your code\n",
    "data3 = pd.read_csv(\"5_c.csv\")\n",
    "data3.head()"
   ]
  },
  {
   "cell_type": "markdown",
   "id": "8a164ac8",
   "metadata": {},
   "source": [
    "\n",
    "## D.</b></font> Compute performance metrics(for regression) for the given data 5_d.csv\n",
    "<pre>    <b>Note 2:</b> use pandas or numpy to read the data from <b>5_d.csv</b>\n",
    "    <b>Note 1:</b> <b>5_d.csv</b> will having two columns Y and predicted_Y both are real valued features\n",
    "<ol>\n",
    "<li> Compute Mean Square Error </li>\n",
    "<li> Compute MAPE: https://www.youtube.com/watch?v=ly6ztgIkUxk</li>\n",
    "<li> Compute R^2 error: https://en.wikipedia.org/wiki/Coefficient_of_determination#Definitions </li>\n",
    "</ol>\n",
    "</pre>"
   ]
  },
  {
   "cell_type": "code",
   "execution_count": 163,
   "id": "1bc6ef04",
   "metadata": {},
   "outputs": [
    {
     "data": {
      "text/plain": [
       "(157200, 157200)"
      ]
     },
     "execution_count": 163,
     "metadata": {},
     "output_type": "execute_result"
    }
   ],
   "source": [
    "data4 = np.loadtxt('5_d.csv', delimiter=',', skiprows=1)\n",
    "y = data4[:, 0]\n",
    "y_pred = data4[:, 1]\n",
    "\n",
    "len(y), len(y_pred)"
   ]
  },
  {
   "cell_type": "code",
   "execution_count": 164,
   "id": "1f787777",
   "metadata": {},
   "outputs": [
    {
     "name": "stdout",
     "output_type": "stream",
     "text": [
      "Mean Square Error:  177.16569974554707\n"
     ]
    }
   ],
   "source": [
    "# Compute Mean Square Error\n",
    "\n",
    "MSE = np.sum(np.power(y - y_pred, 2)) / len(data4)\n",
    "print(\"Mean Square Error: \", MSE)"
   ]
  },
  {
   "cell_type": "code",
   "execution_count": 165,
   "id": "3a0387ab",
   "metadata": {},
   "outputs": [
    {
     "name": "stdout",
     "output_type": "stream",
     "text": [
      "Mean Absolute Percentage Error:  0.1291202994009687\n"
     ]
    }
   ],
   "source": [
    "# Compute Mean Absolute Percentage Error\n",
    "MAPE = np.sum(np.absolute(y - y_pred)) / np.sum(y)\n",
    "print(\"Mean Absolute Percentage Error: \", MAPE)"
   ]
  },
  {
   "cell_type": "code",
   "execution_count": 166,
   "id": "016a25a8",
   "metadata": {},
   "outputs": [
    {
     "name": "stdout",
     "output_type": "stream",
     "text": [
      "R^2 error:  0.9563582786990937\n"
     ]
    }
   ],
   "source": [
    "# Compute R^2 error\n",
    "y_mean = np.mean(np.absolute(y))\n",
    "\n",
    "total_sum_of_squares = np.sum(np.power(y - y_mean, 2))\n",
    "\n",
    "sum_squares_of_residues = np.sum(np.power(y - y_pred, 2))\n",
    "\n",
    "coeff_of_determination = 1 - (sum_squares_of_residues / total_sum_of_squares)\n",
    "\n",
    "print(\"R^2 error: \", coeff_of_determination)"
   ]
  },
  {
   "cell_type": "code",
   "execution_count": null,
   "id": "90e3f744",
   "metadata": {},
   "outputs": [],
   "source": []
  },
  {
   "cell_type": "code",
   "execution_count": null,
   "id": "1d7572ad",
   "metadata": {},
   "outputs": [],
   "source": []
  },
  {
   "cell_type": "code",
   "execution_count": null,
   "id": "f121e990",
   "metadata": {},
   "outputs": [],
   "source": []
  },
  {
   "cell_type": "code",
   "execution_count": null,
   "id": "3f714cee",
   "metadata": {},
   "outputs": [],
   "source": []
  },
  {
   "cell_type": "code",
   "execution_count": null,
   "id": "00f309d8",
   "metadata": {},
   "outputs": [],
   "source": []
  }
 ],
 "metadata": {
  "kernelspec": {
   "display_name": "Python 3 (ipykernel)",
   "language": "python",
   "name": "python3"
  },
  "language_info": {
   "codemirror_mode": {
    "name": "ipython",
    "version": 3
   },
   "file_extension": ".py",
   "mimetype": "text/x-python",
   "name": "python",
   "nbconvert_exporter": "python",
   "pygments_lexer": "ipython3",
   "version": "3.9.7"
  }
 },
 "nbformat": 4,
 "nbformat_minor": 5
}
