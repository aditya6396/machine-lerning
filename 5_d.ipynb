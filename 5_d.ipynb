{
 "cells": [
  {
   "cell_type": "code",
   "execution_count": 30,
   "id": "ec8baefa",
   "metadata": {},
   "outputs": [],
   "source": [
    "import numpy as np\n",
    "import pandas as pd"
   ]
  },
  {
   "cell_type": "code",
   "execution_count": 31,
   "id": "be9d19cc",
   "metadata": {},
   "outputs": [
    {
     "data": {
      "text/html": [
       "<div>\n",
       "<style scoped>\n",
       "    .dataframe tbody tr th:only-of-type {\n",
       "        vertical-align: middle;\n",
       "    }\n",
       "\n",
       "    .dataframe tbody tr th {\n",
       "        vertical-align: top;\n",
       "    }\n",
       "\n",
       "    .dataframe thead th {\n",
       "        text-align: right;\n",
       "    }\n",
       "</style>\n",
       "<table border=\"1\" class=\"dataframe\">\n",
       "  <thead>\n",
       "    <tr style=\"text-align: right;\">\n",
       "      <th></th>\n",
       "      <th>y</th>\n",
       "      <th>pred</th>\n",
       "    </tr>\n",
       "  </thead>\n",
       "  <tbody>\n",
       "    <tr>\n",
       "      <th>0</th>\n",
       "      <td>101.0</td>\n",
       "      <td>100.0</td>\n",
       "    </tr>\n",
       "    <tr>\n",
       "      <th>1</th>\n",
       "      <td>120.0</td>\n",
       "      <td>100.0</td>\n",
       "    </tr>\n",
       "    <tr>\n",
       "      <th>2</th>\n",
       "      <td>131.0</td>\n",
       "      <td>113.0</td>\n",
       "    </tr>\n",
       "    <tr>\n",
       "      <th>3</th>\n",
       "      <td>164.0</td>\n",
       "      <td>125.0</td>\n",
       "    </tr>\n",
       "    <tr>\n",
       "      <th>4</th>\n",
       "      <td>154.0</td>\n",
       "      <td>152.0</td>\n",
       "    </tr>\n",
       "    <tr>\n",
       "      <th>...</th>\n",
       "      <td>...</td>\n",
       "      <td>...</td>\n",
       "    </tr>\n",
       "    <tr>\n",
       "      <th>157195</th>\n",
       "      <td>87.0</td>\n",
       "      <td>83.0</td>\n",
       "    </tr>\n",
       "    <tr>\n",
       "      <th>157196</th>\n",
       "      <td>97.0</td>\n",
       "      <td>86.0</td>\n",
       "    </tr>\n",
       "    <tr>\n",
       "      <th>157197</th>\n",
       "      <td>106.0</td>\n",
       "      <td>93.0</td>\n",
       "    </tr>\n",
       "    <tr>\n",
       "      <th>157198</th>\n",
       "      <td>105.0</td>\n",
       "      <td>101.0</td>\n",
       "    </tr>\n",
       "    <tr>\n",
       "      <th>157199</th>\n",
       "      <td>81.0</td>\n",
       "      <td>104.0</td>\n",
       "    </tr>\n",
       "  </tbody>\n",
       "</table>\n",
       "<p>157200 rows × 2 columns</p>\n",
       "</div>"
      ],
      "text/plain": [
       "            y   pred\n",
       "0       101.0  100.0\n",
       "1       120.0  100.0\n",
       "2       131.0  113.0\n",
       "3       164.0  125.0\n",
       "4       154.0  152.0\n",
       "...       ...    ...\n",
       "157195   87.0   83.0\n",
       "157196   97.0   86.0\n",
       "157197  106.0   93.0\n",
       "157198  105.0  101.0\n",
       "157199   81.0  104.0\n",
       "\n",
       "[157200 rows x 2 columns]"
      ]
     },
     "execution_count": 31,
     "metadata": {},
     "output_type": "execute_result"
    }
   ],
   "source": [
    "data4 = pd.read_csv('5_d.csv')\n",
    "data4"
   ]
  },
  {
   "cell_type": "code",
   "execution_count": 32,
   "id": "c9712f3c",
   "metadata": {},
   "outputs": [
    {
     "name": "stdout",
     "output_type": "stream",
     "text": [
      "Mean Square Error:  177.16569974554707\n"
     ]
    }
   ],
   "source": [
    "# Compute Mean Square Error\n",
    "\n",
    "MSE = np.sum(np.power(y - y_pred, 2)) / len(data4)\n",
    "print(\"Mean Square Error: \", MSE)"
   ]
  },
  {
   "cell_type": "code",
   "execution_count": 33,
   "id": "af8a58a4",
   "metadata": {},
   "outputs": [
    {
     "name": "stdout",
     "output_type": "stream",
     "text": [
      "Mean Absolute Percentage Error:  12.91202994009687\n"
     ]
    }
   ],
   "source": [
    "# Compute Mean Absolute Percentage Error\n",
    "\n",
    "#MAPE = (1/n) * Σ(|actual – forecast| / |actual|) * 100\n",
    "\n",
    "MAPE = np.sum(np.absolute(y - y_pred)) / np.sum(y)*100\n",
    "\n",
    "print(\"Mean Absolute Percentage Error: \", MAPE)"
   ]
  },
  {
   "cell_type": "code",
   "execution_count": 34,
   "id": "ee477d1a",
   "metadata": {},
   "outputs": [
    {
     "name": "stdout",
     "output_type": "stream",
     "text": [
      "R^2 error:  0.9563582786990937\n"
     ]
    }
   ],
   "source": [
    "# Compute R^2 error\n",
    "\n",
    "#R-squared = 1 – (First Sum of Errors / Second Sum of Errors)\n",
    "\n",
    "y_mean = np.mean(np.absolute(y))\n",
    "\n",
    "total_sum_of_squares = np.sum(np.power(y - y_mean, 2))\n",
    "\n",
    "sum_squares_of_residues = np.sum(np.power(y - y_pred, 2))\n",
    "\n",
    "coeff_of_determination = 1 - (sum_squares_of_residues / total_sum_of_squares)\n",
    "\n",
    "print(\"R^2 error: \", coeff_of_determination)"
   ]
  },
  {
   "cell_type": "code",
   "execution_count": 35,
   "id": "07fde558",
   "metadata": {},
   "outputs": [
    {
     "name": "stderr",
     "output_type": "stream",
     "text": [
      "ERROR: Could not find a version that satisfies the requirement xbg (from versions: none)\n",
      "ERROR: No matching distribution found for xbg\n"
     ]
    }
   ],
   "source": [
    "!pip3 install xbg\n"
   ]
  },
  {
   "cell_type": "code",
   "execution_count": null,
   "id": "c952ed89",
   "metadata": {},
   "outputs": [],
   "source": []
  }
 ],
 "metadata": {
  "kernelspec": {
   "display_name": "Python 3 (ipykernel)",
   "language": "python",
   "name": "python3"
  },
  "language_info": {
   "codemirror_mode": {
    "name": "ipython",
    "version": 3
   },
   "file_extension": ".py",
   "mimetype": "text/x-python",
   "name": "python",
   "nbconvert_exporter": "python",
   "pygments_lexer": "ipython3",
   "version": "3.9.7"
  }
 },
 "nbformat": 4,
 "nbformat_minor": 5
}
