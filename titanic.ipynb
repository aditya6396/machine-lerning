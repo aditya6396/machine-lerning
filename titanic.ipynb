{
 "cells": [
  {
   "cell_type": "markdown",
   "id": "a139e0d3",
   "metadata": {},
   "source": [
    "questions solve upon the titanic data set using EDA\n",
    "Q1.Missing Data Information like which variable have missing values , what % missing values.\n",
    "Q2.How many survived and how many died!\n",
    "Q3.Check the female and male ratio in survived and died passengers.\n",
    "Q4.We know there were three passenger classes in the titanic, which class survived the most?\n",
    "Q5.Let's explore more and see what was the survival rate based on the Port of Embarkation?\n",
    "Q6.we may want to explore the class of the passenger and their port of embarkation.\n"
   ]
  },
  {
   "cell_type": "code",
   "execution_count": 101,
   "id": "cb94e5d6",
   "metadata": {},
   "outputs": [],
   "source": [
    "import pandas as pd\n",
    "import numpy as np"
   ]
  },
  {
   "cell_type": "code",
   "execution_count": 102,
   "id": "541a2def",
   "metadata": {},
   "outputs": [
    {
     "data": {
      "text/html": [
       "<div>\n",
       "<style scoped>\n",
       "    .dataframe tbody tr th:only-of-type {\n",
       "        vertical-align: middle;\n",
       "    }\n",
       "\n",
       "    .dataframe tbody tr th {\n",
       "        vertical-align: top;\n",
       "    }\n",
       "\n",
       "    .dataframe thead th {\n",
       "        text-align: right;\n",
       "    }\n",
       "</style>\n",
       "<table border=\"1\" class=\"dataframe\">\n",
       "  <thead>\n",
       "    <tr style=\"text-align: right;\">\n",
       "      <th></th>\n",
       "      <th>survived</th>\n",
       "      <th>pclass</th>\n",
       "      <th>sex</th>\n",
       "      <th>age</th>\n",
       "      <th>sibsp</th>\n",
       "      <th>parch</th>\n",
       "      <th>fare</th>\n",
       "      <th>embarked</th>\n",
       "      <th>deck</th>\n",
       "    </tr>\n",
       "  </thead>\n",
       "  <tbody>\n",
       "    <tr>\n",
       "      <th>0</th>\n",
       "      <td>0</td>\n",
       "      <td>3</td>\n",
       "      <td>male</td>\n",
       "      <td>22.0</td>\n",
       "      <td>1</td>\n",
       "      <td>0</td>\n",
       "      <td>7.2500</td>\n",
       "      <td>S</td>\n",
       "      <td>NaN</td>\n",
       "    </tr>\n",
       "    <tr>\n",
       "      <th>1</th>\n",
       "      <td>1</td>\n",
       "      <td>1</td>\n",
       "      <td>female</td>\n",
       "      <td>38.0</td>\n",
       "      <td>1</td>\n",
       "      <td>0</td>\n",
       "      <td>71.2833</td>\n",
       "      <td>C</td>\n",
       "      <td>C</td>\n",
       "    </tr>\n",
       "    <tr>\n",
       "      <th>2</th>\n",
       "      <td>1</td>\n",
       "      <td>3</td>\n",
       "      <td>female</td>\n",
       "      <td>26.0</td>\n",
       "      <td>0</td>\n",
       "      <td>0</td>\n",
       "      <td>7.9250</td>\n",
       "      <td>S</td>\n",
       "      <td>NaN</td>\n",
       "    </tr>\n",
       "    <tr>\n",
       "      <th>3</th>\n",
       "      <td>1</td>\n",
       "      <td>1</td>\n",
       "      <td>female</td>\n",
       "      <td>35.0</td>\n",
       "      <td>1</td>\n",
       "      <td>0</td>\n",
       "      <td>53.1000</td>\n",
       "      <td>S</td>\n",
       "      <td>C</td>\n",
       "    </tr>\n",
       "    <tr>\n",
       "      <th>4</th>\n",
       "      <td>0</td>\n",
       "      <td>3</td>\n",
       "      <td>male</td>\n",
       "      <td>35.0</td>\n",
       "      <td>0</td>\n",
       "      <td>0</td>\n",
       "      <td>8.0500</td>\n",
       "      <td>S</td>\n",
       "      <td>NaN</td>\n",
       "    </tr>\n",
       "    <tr>\n",
       "      <th>...</th>\n",
       "      <td>...</td>\n",
       "      <td>...</td>\n",
       "      <td>...</td>\n",
       "      <td>...</td>\n",
       "      <td>...</td>\n",
       "      <td>...</td>\n",
       "      <td>...</td>\n",
       "      <td>...</td>\n",
       "      <td>...</td>\n",
       "    </tr>\n",
       "    <tr>\n",
       "      <th>886</th>\n",
       "      <td>0</td>\n",
       "      <td>2</td>\n",
       "      <td>male</td>\n",
       "      <td>27.0</td>\n",
       "      <td>0</td>\n",
       "      <td>0</td>\n",
       "      <td>13.0000</td>\n",
       "      <td>S</td>\n",
       "      <td>NaN</td>\n",
       "    </tr>\n",
       "    <tr>\n",
       "      <th>887</th>\n",
       "      <td>1</td>\n",
       "      <td>1</td>\n",
       "      <td>female</td>\n",
       "      <td>19.0</td>\n",
       "      <td>0</td>\n",
       "      <td>0</td>\n",
       "      <td>30.0000</td>\n",
       "      <td>S</td>\n",
       "      <td>B</td>\n",
       "    </tr>\n",
       "    <tr>\n",
       "      <th>888</th>\n",
       "      <td>0</td>\n",
       "      <td>3</td>\n",
       "      <td>female</td>\n",
       "      <td>NaN</td>\n",
       "      <td>1</td>\n",
       "      <td>2</td>\n",
       "      <td>23.4500</td>\n",
       "      <td>S</td>\n",
       "      <td>NaN</td>\n",
       "    </tr>\n",
       "    <tr>\n",
       "      <th>889</th>\n",
       "      <td>1</td>\n",
       "      <td>1</td>\n",
       "      <td>male</td>\n",
       "      <td>26.0</td>\n",
       "      <td>0</td>\n",
       "      <td>0</td>\n",
       "      <td>30.0000</td>\n",
       "      <td>C</td>\n",
       "      <td>C</td>\n",
       "    </tr>\n",
       "    <tr>\n",
       "      <th>890</th>\n",
       "      <td>0</td>\n",
       "      <td>3</td>\n",
       "      <td>male</td>\n",
       "      <td>32.0</td>\n",
       "      <td>0</td>\n",
       "      <td>0</td>\n",
       "      <td>7.7500</td>\n",
       "      <td>Q</td>\n",
       "      <td>NaN</td>\n",
       "    </tr>\n",
       "  </tbody>\n",
       "</table>\n",
       "<p>891 rows × 9 columns</p>\n",
       "</div>"
      ],
      "text/plain": [
       "     survived  pclass     sex   age  sibsp  parch     fare embarked deck\n",
       "0           0       3    male  22.0      1      0   7.2500        S  NaN\n",
       "1           1       1  female  38.0      1      0  71.2833        C    C\n",
       "2           1       3  female  26.0      0      0   7.9250        S  NaN\n",
       "3           1       1  female  35.0      1      0  53.1000        S    C\n",
       "4           0       3    male  35.0      0      0   8.0500        S  NaN\n",
       "..        ...     ...     ...   ...    ...    ...      ...      ...  ...\n",
       "886         0       2    male  27.0      0      0  13.0000        S  NaN\n",
       "887         1       1  female  19.0      0      0  30.0000        S    B\n",
       "888         0       3  female   NaN      1      2  23.4500        S  NaN\n",
       "889         1       1    male  26.0      0      0  30.0000        C    C\n",
       "890         0       3    male  32.0      0      0   7.7500        Q  NaN\n",
       "\n",
       "[891 rows x 9 columns]"
      ]
     },
     "execution_count": 102,
     "metadata": {},
     "output_type": "execute_result"
    }
   ],
   "source": [
    "df=pd.read_csv(\"titanic.csv\")\n",
    "df"
   ]
  },
  {
   "cell_type": "code",
   "execution_count": 103,
   "id": "4c8ff0c8",
   "metadata": {},
   "outputs": [
    {
     "name": "stdout",
     "output_type": "stream",
     "text": [
      "<class 'pandas.core.frame.DataFrame'>\n",
      "RangeIndex: 891 entries, 0 to 890\n",
      "Data columns (total 9 columns):\n",
      " #   Column    Non-Null Count  Dtype  \n",
      "---  ------    --------------  -----  \n",
      " 0   survived  891 non-null    int64  \n",
      " 1   pclass    891 non-null    int64  \n",
      " 2   sex       891 non-null    object \n",
      " 3   age       714 non-null    float64\n",
      " 4   sibsp     891 non-null    int64  \n",
      " 5   parch     891 non-null    int64  \n",
      " 6   fare      891 non-null    float64\n",
      " 7   embarked  889 non-null    object \n",
      " 8   deck      203 non-null    object \n",
      "dtypes: float64(2), int64(4), object(3)\n",
      "memory usage: 62.8+ KB\n"
     ]
    }
   ],
   "source": [
    "df.info()"
   ]
  },
  {
   "cell_type": "code",
   "execution_count": 112,
   "id": "9bfc7399",
   "metadata": {},
   "outputs": [
    {
     "data": {
      "text/html": [
       "<div>\n",
       "<style scoped>\n",
       "    .dataframe tbody tr th:only-of-type {\n",
       "        vertical-align: middle;\n",
       "    }\n",
       "\n",
       "    .dataframe tbody tr th {\n",
       "        vertical-align: top;\n",
       "    }\n",
       "\n",
       "    .dataframe thead th {\n",
       "        text-align: right;\n",
       "    }\n",
       "</style>\n",
       "<table border=\"1\" class=\"dataframe\">\n",
       "  <thead>\n",
       "    <tr style=\"text-align: right;\">\n",
       "      <th></th>\n",
       "      <th>% Null Values</th>\n",
       "    </tr>\n",
       "  </thead>\n",
       "  <tbody>\n",
       "    <tr>\n",
       "      <th>survived</th>\n",
       "      <td>0.000000</td>\n",
       "    </tr>\n",
       "    <tr>\n",
       "      <th>pclass</th>\n",
       "      <td>0.000000</td>\n",
       "    </tr>\n",
       "    <tr>\n",
       "      <th>sex</th>\n",
       "      <td>0.000000</td>\n",
       "    </tr>\n",
       "    <tr>\n",
       "      <th>age</th>\n",
       "      <td>19.865320</td>\n",
       "    </tr>\n",
       "    <tr>\n",
       "      <th>sibling</th>\n",
       "      <td>0.000000</td>\n",
       "    </tr>\n",
       "    <tr>\n",
       "      <th>parents</th>\n",
       "      <td>0.000000</td>\n",
       "    </tr>\n",
       "    <tr>\n",
       "      <th>fare</th>\n",
       "      <td>0.000000</td>\n",
       "    </tr>\n",
       "    <tr>\n",
       "      <th>embarked</th>\n",
       "      <td>0.000000</td>\n",
       "    </tr>\n",
       "    <tr>\n",
       "      <th>deck</th>\n",
       "      <td>77.216611</td>\n",
       "    </tr>\n",
       "  </tbody>\n",
       "</table>\n",
       "</div>"
      ],
      "text/plain": [
       "          % Null Values\n",
       "survived       0.000000\n",
       "pclass         0.000000\n",
       "sex            0.000000\n",
       "age           19.865320\n",
       "sibling        0.000000\n",
       "parents        0.000000\n",
       "fare           0.000000\n",
       "embarked       0.000000\n",
       "deck          77.216611"
      ]
     },
     "execution_count": 112,
     "metadata": {},
     "output_type": "execute_result"
    }
   ],
   "source": [
    "#Q1.Missing Data Information like which variable have missing values , what % missing values\n",
    "df.isnull().sum() #first way\n",
    "df.isnull().any() #second way\n",
    "df.isna().sum() #third way\n",
    "null_percentage = (df.isnull().sum()/len(df)*100)\n",
    "null_percentage = pd.DataFrame(null_percentage, columns=['% Null Values'])\n",
    "null_percentage"
   ]
  },
  {
   "cell_type": "code",
   "execution_count": 105,
   "id": "6e15fc45",
   "metadata": {},
   "outputs": [
    {
     "name": "stdout",
     "output_type": "stream",
     "text": [
      "How was the percentage of survived?\n",
      "38.38383838383838\n",
      "61.61616161616161\n"
     ]
    }
   ],
   "source": [
    "#Q4 We know there were three passenger classes in the titanic, which class survived the most?\n",
    "survived = df[df['survived']==1]\n",
    "not_survided = df[df['survived']==0]\n",
    "total_passenger = len(df.survived)\n",
    "print('How was the percentage of survived?')\n",
    "print(format((len(survived)/total_passenger)*100))\n",
    "print(format((len(not_survided)/total_passenger)*100))"
   ]
  },
  {
   "cell_type": "code",
   "execution_count": 106,
   "id": "bc4a6065",
   "metadata": {},
   "outputs": [
    {
     "name": "stdout",
     "output_type": "stream",
     "text": [
      "How many male and female embarked?\n",
      "314\n",
      "577\n"
     ]
    }
   ],
   "source": [
    "# Q3.Check the female and male ratio in survived and died passengers. \n",
    "\n",
    "woman = df[df['sex']=='female'].dropna(axis=1)\n",
    "men = df[df['sex']=='male'].dropna(axis=1)\n",
    "print('How many male and female embarked?')\n",
    "print(format(len(woman)))\n",
    "print(format(len(men)))"
   ]
  },
  {
   "cell_type": "code",
   "execution_count": 107,
   "id": "5fcdcef8",
   "metadata": {},
   "outputs": [
    {
     "name": "stdout",
     "output_type": "stream",
     "text": [
      "     survived  pclass   sex   age  sibsp  parch      fare embarked deck\n",
      "6           0       1  male  54.0      0      0   51.8625        S    E\n",
      "27          0       1  male  19.0      3      2  263.0000        S    C\n",
      "30          0       1  male  40.0      0      0   27.7208        C  NaN\n",
      "34          0       1  male  28.0      1      0   82.1708        C  NaN\n",
      "35          0       1  male  42.0      1      0   52.0000        S  NaN\n",
      "..        ...     ...   ...   ...    ...    ...       ...      ...  ...\n",
      "806         0       1  male  39.0      0      0    0.0000        S    A\n",
      "815         0       1  male   NaN      0      0    0.0000        S    B\n",
      "822         0       1  male  38.0      0      0    0.0000        S  NaN\n",
      "867         0       1  male  31.0      0      0   50.4958        S    A\n",
      "872         0       1  male  33.0      0      0    5.0000        S    B\n",
      "\n",
      "[80 rows x 9 columns]\n",
      "     survived  pclass     sex   age  sibsp  parch  fare embarked deck\n",
      "20          0       2    male  35.0      0      0  26.0        S  NaN\n",
      "33          0       2    male  66.0      0      0  10.5        S  NaN\n",
      "41          0       2  female  27.0      1      0  21.0        S  NaN\n",
      "70          0       2    male  32.0      0      0  10.5        S  NaN\n",
      "72          0       2    male  21.0      0      0  73.5        S  NaN\n",
      "..        ...     ...     ...   ...    ...    ...   ...      ...  ...\n",
      "854         0       2  female  44.0      1      0  26.0        S  NaN\n",
      "861         0       2    male  21.0      1      0  11.5        S  NaN\n",
      "864         0       2    male  24.0      0      0  13.0        S  NaN\n",
      "883         0       2    male  28.0      0      0  10.5        S  NaN\n",
      "886         0       2    male  27.0      0      0  13.0        S  NaN\n",
      "\n",
      "[97 rows x 9 columns]\n",
      "     survived  pclass     sex   age  sibsp  parch     fare embarked deck\n",
      "0           0       3    male  22.0      1      0   7.2500        S  NaN\n",
      "4           0       3    male  35.0      0      0   8.0500        S  NaN\n",
      "5           0       3    male   NaN      0      0   8.4583        Q  NaN\n",
      "7           0       3    male   2.0      3      1  21.0750        S  NaN\n",
      "12          0       3    male  20.0      0      0   8.0500        S  NaN\n",
      "..        ...     ...     ...   ...    ...    ...      ...      ...  ...\n",
      "882         0       3  female  22.0      0      0  10.5167        S  NaN\n",
      "884         0       3    male  25.0      0      0   7.0500        S  NaN\n",
      "885         0       3  female  39.0      0      5  29.1250        Q  NaN\n",
      "888         0       3  female   NaN      1      2  23.4500        S  NaN\n",
      "890         0       3    male  32.0      0      0   7.7500        Q  NaN\n",
      "\n",
      "[372 rows x 9 columns]\n"
     ]
    }
   ],
   "source": [
    "# Class\n",
    "class_1 = not_survided[not_survided['pclass'] ==1]\n",
    "class_2 = not_survided[not_survided['pclass'] ==2]   \n",
    "class_3 = not_survided[not_survided['pclass'] ==3]\n",
    "print(class_1)\n",
    "print(class_2)\n",
    "print(class_3)"
   ]
  },
  {
   "cell_type": "code",
   "execution_count": 108,
   "id": "763dc04d",
   "metadata": {},
   "outputs": [],
   "source": [
    "# Q6.we may want to explore the class of the passenger and their port of embarkation."
   ]
  },
  {
   "cell_type": "code",
   "execution_count": 109,
   "id": "68c8ecf5",
   "metadata": {},
   "outputs": [
    {
     "name": "stdout",
     "output_type": "stream",
     "text": [
      "0\n",
      "0\n"
     ]
    },
    {
     "name": "stderr",
     "output_type": "stream",
     "text": [
      "C:\\Users\\DELL\\AppData\\Local\\Temp/ipykernel_27688/3426634199.py:6: UserWarning: Boolean Series key will be reindexed to match DataFrame index.\n",
      "  survived_list = len(df[(df['survived']==1)][df['embarked']==i]['survived'])\n",
      "C:\\Users\\DELL\\AppData\\Local\\Temp/ipykernel_27688/3426634199.py:7: UserWarning: Boolean Series key will be reindexed to match DataFrame index.\n",
      "  not_survived_list = len(df[(df['survived']==0)][df['embarked']==i]['survived'])\n"
     ]
    }
   ],
   "source": [
    "# Q5.Let's explore more and see what was the survival rate based on the Port of Embarkation?\n",
    "labels = ['Cherbourg','Southampton', 'Queenstown']\n",
    "destination_survived = np.array([])\n",
    "destination_not_survived = np.array([])\n",
    "for i in labels:\n",
    "    survived_list = len(df[(df['survived']==1)][df['embarked']==i]['survived'])\n",
    "    not_survived_list = len(df[(df['survived']==0)][df['embarked']==i]['survived'])\n",
    "print(survived_list) \n",
    "print( not_survived_list)\n"
   ]
  },
  {
   "cell_type": "code",
   "execution_count": 110,
   "id": "97884c2e",
   "metadata": {},
   "outputs": [
    {
     "name": "stdout",
     "output_type": "stream",
     "text": [
      "How many peoples embarked from Cherbourg, Queenstown, and Southampton\n",
      "168\n",
      "79\n",
      "644\n"
     ]
    }
   ],
   "source": [
    "#Q6 we  may want to explore the class of the passenger and their port of embarkation.\n",
    "letters = np.array([])\n",
    "embarked = ['Cherbourg', 'Queenstown', 'Southampton']\n",
    "for i in df['embarked']:\n",
    "    if i == 'S':\n",
    "        letters = np.append(letters, embarked[2])\n",
    "    elif i == 'C':\n",
    "        letters = np.append(letters, embarked[0])\n",
    "    else:\n",
    "        letters= np.append(letters, embarked[1])\n",
    "\n",
    "df['embarked'] = letters \n",
    "\n",
    "# Replace columns\n",
    "\n",
    "new_columns = {'sibsp':'sibling','parch': 'parents', 'home.dest': 'destination'}\n",
    "df = df.rename(columns= new_columns)\n",
    "print('How many peoples embarked from Cherbourg, Queenstown, and Southampton')\n",
    "\n",
    "print(format(len(df[df['embarked']=='Cherbourg'])))\n",
    "print(format(len(df[df['embarked']=='Queenstown'])))\n",
    "print(format(len(df[df['embarked']=='Southampton'])))"
   ]
  },
  {
   "cell_type": "code",
   "execution_count": null,
   "id": "3b791810",
   "metadata": {},
   "outputs": [],
   "source": []
  }
 ],
 "metadata": {
  "kernelspec": {
   "display_name": "Python 3 (ipykernel)",
   "language": "python",
   "name": "python3"
  },
  "language_info": {
   "codemirror_mode": {
    "name": "ipython",
    "version": 3
   },
   "file_extension": ".py",
   "mimetype": "text/x-python",
   "name": "python",
   "nbconvert_exporter": "python",
   "pygments_lexer": "ipython3",
   "version": "3.9.7"
  }
 },
 "nbformat": 4,
 "nbformat_minor": 5
}
